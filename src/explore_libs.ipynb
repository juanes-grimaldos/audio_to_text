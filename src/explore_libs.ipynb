{
 "cells": [
  {
   "cell_type": "markdown",
   "metadata": {},
   "source": [
    "# importar data para mi mama"
   ]
  },
  {
   "cell_type": "code",
   "execution_count": 6,
   "metadata": {},
   "outputs": [
    {
     "name": "stderr",
     "output_type": "stream",
     "text": [
      "/home/juanes/Documents/personal_projects/audio_to_text/.venv/lib/python3.11/site-packages/whisper/transcribe.py:115: UserWarning: FP16 is not supported on CPU; using FP32 instead\n",
      "  warnings.warn(\"FP16 is not supported on CPU; using FP32 instead\")\n",
      "/home/juanes/Documents/personal_projects/audio_to_text/.venv/lib/python3.11/site-packages/whisper/transcribe.py:115: UserWarning: FP16 is not supported on CPU; using FP32 instead\n",
      "  warnings.warn(\"FP16 is not supported on CPU; using FP32 instead\")\n",
      "/home/juanes/Documents/personal_projects/audio_to_text/.venv/lib/python3.11/site-packages/whisper/transcribe.py:115: UserWarning: FP16 is not supported on CPU; using FP32 instead\n",
      "  warnings.warn(\"FP16 is not supported on CPU; using FP32 instead\")\n",
      "/home/juanes/Documents/personal_projects/audio_to_text/.venv/lib/python3.11/site-packages/whisper/transcribe.py:115: UserWarning: FP16 is not supported on CPU; using FP32 instead\n",
      "  warnings.warn(\"FP16 is not supported on CPU; using FP32 instead\")\n",
      "/home/juanes/Documents/personal_projects/audio_to_text/.venv/lib/python3.11/site-packages/whisper/transcribe.py:115: UserWarning: FP16 is not supported on CPU; using FP32 instead\n",
      "  warnings.warn(\"FP16 is not supported on CPU; using FP32 instead\")\n",
      "/home/juanes/Documents/personal_projects/audio_to_text/.venv/lib/python3.11/site-packages/whisper/transcribe.py:115: UserWarning: FP16 is not supported on CPU; using FP32 instead\n",
      "  warnings.warn(\"FP16 is not supported on CPU; using FP32 instead\")\n",
      "/home/juanes/Documents/personal_projects/audio_to_text/.venv/lib/python3.11/site-packages/whisper/transcribe.py:115: UserWarning: FP16 is not supported on CPU; using FP32 instead\n",
      "  warnings.warn(\"FP16 is not supported on CPU; using FP32 instead\")\n"
     ]
    }
   ],
   "source": [
    "import os\n",
    "import docx\n",
    "import whisper\n",
    "\n",
    "# Create a new docx document\n",
    "doc = docx.Document()\n",
    "\n",
    "\n",
    "# Get a list of audio files in the audios folder\n",
    "audio_folder = \"audios\"\n",
    "audio_files = os.listdir(audio_folder)\n",
    "\n",
    "# Transcribe each audio file and add the transcript to the document\n",
    "for audio_file in audio_files:\n",
    "    audio_path = os.path.join(audio_folder, audio_file)\n",
    "    \n",
    "    # Load the whisper model\n",
    "    model = whisper.load_model(\"base\")\n",
    "    \n",
    "    # Transcribe the audio\n",
    "    result = model.transcribe(audio_path)\n",
    "    transcript = result[\"text\"]\n",
    "    \n",
    "    #\n",
    "    doc.add_heading(audio_file, level=1)\n",
    "    \n",
    "    # Add the transcript to a new paragraph in the document\n",
    "    doc.add_paragraph(transcript)\n",
    "\n",
    "# Save the document\n",
    "doc.save(\"docs/transcripts.docx\")\n"
   ]
  }
 ],
 "metadata": {
  "kernelspec": {
   "display_name": ".venv",
   "language": "python",
   "name": "python3"
  },
  "language_info": {
   "codemirror_mode": {
    "name": "ipython",
    "version": 3
   },
   "file_extension": ".py",
   "mimetype": "text/x-python",
   "name": "python",
   "nbconvert_exporter": "python",
   "pygments_lexer": "ipython3",
   "version": "3.11.4"
  }
 },
 "nbformat": 4,
 "nbformat_minor": 2
}
